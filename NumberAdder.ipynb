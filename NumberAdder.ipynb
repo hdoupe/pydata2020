{
 "cells": [
  {
   "cell_type": "markdown",
   "metadata": {},
   "source": [
    "# NumberAdder Example"
   ]
  },
  {
   "cell_type": "markdown",
   "metadata": {},
   "source": [
    "We are going to create a number adder example. This number adder has two variables, `x` and `y`, that are indexed with a `year` label."
   ]
  },
  {
   "cell_type": "code",
   "execution_count": 1,
   "metadata": {},
   "outputs": [],
   "source": [
    "import paramtools\n",
    "\n",
    "class NumberAdder(paramtools.Parameters):\n",
    "    defaults = {\n",
    "        \"schema\": {\n",
    "            \"labels\": {\n",
    "                \"year\": {\n",
    "                    \"type\": \"int\", \"validators\": {\"range\": {\"min\": 2000, \"max\": 2030}}\n",
    "                },\n",
    "            }\n",
    "        },\n",
    "        \"x\": {\n",
    "            \"title\": \"X\",\n",
    "            \"description\": \"X-axis\",\n",
    "            \"type\": \"float\",\n",
    "            \"value\": [{\"year\": 2000, \"value\": 2}],\n",
    "            \"validators\": {\n",
    "                \"range\": {\n",
    "                    \"min\": 0, \"max\": \"y\"\n",
    "                }\n",
    "            }\n",
    "        },\n",
    "        \"y\": {\n",
    "            \"title\": \"Y\",\n",
    "            \"description\": \"Y-axis\",\n",
    "            \"type\": \"int\",\n",
    "            \"value\": [{\"year\": 2000, \"value\": 50}],\n",
    "            \"validators\": {\n",
    "                \"range\": {\n",
    "                    \"min\": \"x\", \"max\": 100,\n",
    "                }\n",
    "            }\n",
    "        }\n",
    "    }\n",
    "    \n",
    "    def run(self):\n",
    "        if self.array_first:\n",
    "            return self.x * self.y\n",
    "        else:\n",
    "            return sum([\n",
    "                x[\"value\"] * y[\"value\"] for x, y in zip(self.x, self.y)\n",
    "            ])"
   ]
  },
  {
   "cell_type": "code",
   "execution_count": 2,
   "metadata": {},
   "outputs": [
    {
     "data": {
      "text/plain": [
       "100.0"
      ]
     },
     "execution_count": 2,
     "metadata": {},
     "output_type": "execute_result"
    }
   ],
   "source": [
    "adder = NumberAdder()\n",
    "\n",
    "adder.run()"
   ]
  },
  {
   "cell_type": "markdown",
   "metadata": {},
   "source": [
    "**Access `x` directly as an attribute on the `adder` instance:**"
   ]
  },
  {
   "cell_type": "code",
   "execution_count": 3,
   "metadata": {},
   "outputs": [
    {
     "data": {
      "text/plain": [
       "[OrderedDict([('year', 2000), ('value', 2.0)])]"
      ]
     },
     "execution_count": 3,
     "metadata": {},
     "output_type": "execute_result"
    }
   ],
   "source": [
    "adder.x"
   ]
  },
  {
   "cell_type": "markdown",
   "metadata": {},
   "source": [
    "**Acccess `x` through the `sel` attribute:**"
   ]
  },
  {
   "cell_type": "code",
   "execution_count": 4,
   "metadata": {},
   "outputs": [
    {
     "data": {
      "text/plain": [
       "Values([\n",
       "  {'year': 2000, 'value': 2.0},\n",
       "])"
      ]
     },
     "execution_count": 4,
     "metadata": {},
     "output_type": "execute_result"
    }
   ],
   "source": [
    "adder.sel[\"x\"]"
   ]
  },
  {
   "cell_type": "markdown",
   "metadata": {},
   "source": [
    "**We can update `x` easily, too:**"
   ]
  },
  {
   "cell_type": "code",
   "execution_count": 5,
   "metadata": {},
   "outputs": [
    {
     "data": {
      "text/plain": [
       "OrderedDict([('x', [OrderedDict([('value', 4.0)])])])"
      ]
     },
     "execution_count": 5,
     "metadata": {},
     "output_type": "execute_result"
    }
   ],
   "source": [
    "adder.adjust({\"x\": 4})"
   ]
  },
  {
   "cell_type": "code",
   "execution_count": 6,
   "metadata": {},
   "outputs": [
    {
     "data": {
      "text/plain": [
       "Values([\n",
       "  {'year': 2000, 'value': 4.0},\n",
       "])"
      ]
     },
     "execution_count": 6,
     "metadata": {},
     "output_type": "execute_result"
    }
   ],
   "source": [
    "adder.sel[\"x\"]"
   ]
  },
  {
   "cell_type": "code",
   "execution_count": 7,
   "metadata": {},
   "outputs": [
    {
     "data": {
      "text/plain": [
       "OrderedDict([('x', [OrderedDict([('year', 2010), ('value', 8.0)])])])"
      ]
     },
     "execution_count": 7,
     "metadata": {},
     "output_type": "execute_result"
    }
   ],
   "source": [
    "adder.adjust({\"x\": [{\"year\": 2010, \"value\": 8}]})"
   ]
  },
  {
   "cell_type": "code",
   "execution_count": 8,
   "metadata": {},
   "outputs": [
    {
     "data": {
      "text/plain": [
       "Values([\n",
       "  {'year': 2000, 'value': 4.0},\n",
       "  {'year': 2010, 'value': 8.0},\n",
       "])"
      ]
     },
     "execution_count": 8,
     "metadata": {},
     "output_type": "execute_result"
    }
   ],
   "source": [
    "adder.sel[\"x\"]"
   ]
  },
  {
   "cell_type": "markdown",
   "metadata": {},
   "source": [
    "**Validate user inputs:**"
   ]
  },
  {
   "cell_type": "code",
   "execution_count": 9,
   "metadata": {},
   "outputs": [
    {
     "ename": "ValidationError",
     "evalue": "{\n    \"errors\": {\n        \"x\": [\n            \"Not a valid number: abc.\"\n        ]\n    }\n}",
     "output_type": "error",
     "traceback": [
      "\u001b[0;31m---------------------------------------------------------------------------\u001b[0m",
      "\u001b[0;31mValidationError\u001b[0m                           Traceback (most recent call last)",
      "\u001b[0;32m<ipython-input-9-4bba66108da7>\u001b[0m in \u001b[0;36m<module>\u001b[0;34m\u001b[0m\n\u001b[0;32m----> 1\u001b[0;31m \u001b[0madder\u001b[0m\u001b[0;34m.\u001b[0m\u001b[0madjust\u001b[0m\u001b[0;34m(\u001b[0m\u001b[0;34m{\u001b[0m\u001b[0;34m\"x\"\u001b[0m\u001b[0;34m:\u001b[0m \u001b[0;34m\"abc\"\u001b[0m\u001b[0;34m}\u001b[0m\u001b[0;34m)\u001b[0m\u001b[0;34m\u001b[0m\u001b[0;34m\u001b[0m\u001b[0m\n\u001b[0m",
      "\u001b[0;32m~/ParamTools/paramtools/parameters.py\u001b[0m in \u001b[0;36madjust\u001b[0;34m(self, params_or_path, ignore_warnings, raise_errors, extend_adj, clobber)\u001b[0m\n\u001b[1;32m    241\u001b[0m             \u001b[0mleast\u001b[0m \u001b[0mone\u001b[0m \u001b[0mexisting\u001b[0m \u001b[0mvalue\u001b[0m \u001b[0mitem\u001b[0m\u001b[0;31m'\u001b[0m\u001b[0ms\u001b[0m \u001b[0mcorresponding\u001b[0m \u001b[0mlabel\u001b[0m \u001b[0mvalues\u001b[0m\u001b[0;34m.\u001b[0m\u001b[0;34m\u001b[0m\u001b[0;34m\u001b[0m\u001b[0m\n\u001b[1;32m    242\u001b[0m         \"\"\"\n\u001b[0;32m--> 243\u001b[0;31m         return self._adjust(\n\u001b[0m\u001b[1;32m    244\u001b[0m             \u001b[0mparams_or_path\u001b[0m\u001b[0;34m,\u001b[0m\u001b[0;34m\u001b[0m\u001b[0;34m\u001b[0m\u001b[0m\n\u001b[1;32m    245\u001b[0m             \u001b[0mignore_warnings\u001b[0m\u001b[0;34m=\u001b[0m\u001b[0mignore_warnings\u001b[0m\u001b[0;34m,\u001b[0m\u001b[0;34m\u001b[0m\u001b[0;34m\u001b[0m\u001b[0m\n",
      "\u001b[0;32m~/ParamTools/paramtools/parameters.py\u001b[0m in \u001b[0;36m_adjust\u001b[0;34m(self, params_or_path, ignore_warnings, raise_errors, extend_adj, is_deserialized, clobber)\u001b[0m\n\u001b[1;32m    359\u001b[0m             \u001b[0;32mnot\u001b[0m \u001b[0mignore_warnings\u001b[0m \u001b[0;32mand\u001b[0m \u001b[0mhas_warnings\u001b[0m\u001b[0;34m\u001b[0m\u001b[0;34m\u001b[0m\u001b[0m\n\u001b[1;32m    360\u001b[0m         ):\n\u001b[0;32m--> 361\u001b[0;31m             \u001b[0;32mraise\u001b[0m \u001b[0mself\u001b[0m\u001b[0;34m.\u001b[0m\u001b[0mvalidation_error\u001b[0m\u001b[0;34m\u001b[0m\u001b[0;34m\u001b[0m\u001b[0m\n\u001b[0m\u001b[1;32m    362\u001b[0m \u001b[0;34m\u001b[0m\u001b[0m\n\u001b[1;32m    363\u001b[0m         \u001b[0;31m# Update attrs for params that were adjusted.\u001b[0m\u001b[0;34m\u001b[0m\u001b[0;34m\u001b[0m\u001b[0;34m\u001b[0m\u001b[0m\n",
      "\u001b[0;31mValidationError\u001b[0m: {\n    \"errors\": {\n        \"x\": [\n            \"Not a valid number: abc.\"\n        ]\n    }\n}"
     ]
    }
   ],
   "source": [
    "adder.adjust({\"x\": \"abc\"})"
   ]
  },
  {
   "cell_type": "code",
   "execution_count": 10,
   "metadata": {},
   "outputs": [
    {
     "ename": "ValidationError",
     "evalue": "{\n    \"errors\": {\n        \"y\": [\n            \"y 1 < min 2.0 x[year=2000]\"\n        ]\n    }\n}",
     "output_type": "error",
     "traceback": [
      "\u001b[0;31m---------------------------------------------------------------------------\u001b[0m",
      "\u001b[0;31mValidationError\u001b[0m                           Traceback (most recent call last)",
      "\u001b[0;32m<ipython-input-10-32be67c147d1>\u001b[0m in \u001b[0;36m<module>\u001b[0;34m\u001b[0m\n\u001b[1;32m      1\u001b[0m \u001b[0madder\u001b[0m \u001b[0;34m=\u001b[0m \u001b[0mNumberAdder\u001b[0m\u001b[0;34m(\u001b[0m\u001b[0;34m)\u001b[0m\u001b[0;34m\u001b[0m\u001b[0;34m\u001b[0m\u001b[0m\n\u001b[1;32m      2\u001b[0m \u001b[0;34m\u001b[0m\u001b[0m\n\u001b[0;32m----> 3\u001b[0;31m \u001b[0madder\u001b[0m\u001b[0;34m.\u001b[0m\u001b[0madjust\u001b[0m\u001b[0;34m(\u001b[0m\u001b[0;34m{\u001b[0m\u001b[0;34m\"y\"\u001b[0m\u001b[0;34m:\u001b[0m \u001b[0;34m[\u001b[0m\u001b[0;34m{\u001b[0m\u001b[0;34m\"value\"\u001b[0m\u001b[0;34m:\u001b[0m \u001b[0;36m1\u001b[0m\u001b[0;34m}\u001b[0m\u001b[0;34m]\u001b[0m\u001b[0;34m}\u001b[0m\u001b[0;34m)\u001b[0m\u001b[0;34m\u001b[0m\u001b[0;34m\u001b[0m\u001b[0m\n\u001b[0m",
      "\u001b[0;32m~/ParamTools/paramtools/parameters.py\u001b[0m in \u001b[0;36madjust\u001b[0;34m(self, params_or_path, ignore_warnings, raise_errors, extend_adj, clobber)\u001b[0m\n\u001b[1;32m    241\u001b[0m             \u001b[0mleast\u001b[0m \u001b[0mone\u001b[0m \u001b[0mexisting\u001b[0m \u001b[0mvalue\u001b[0m \u001b[0mitem\u001b[0m\u001b[0;31m'\u001b[0m\u001b[0ms\u001b[0m \u001b[0mcorresponding\u001b[0m \u001b[0mlabel\u001b[0m \u001b[0mvalues\u001b[0m\u001b[0;34m.\u001b[0m\u001b[0;34m\u001b[0m\u001b[0;34m\u001b[0m\u001b[0m\n\u001b[1;32m    242\u001b[0m         \"\"\"\n\u001b[0;32m--> 243\u001b[0;31m         return self._adjust(\n\u001b[0m\u001b[1;32m    244\u001b[0m             \u001b[0mparams_or_path\u001b[0m\u001b[0;34m,\u001b[0m\u001b[0;34m\u001b[0m\u001b[0;34m\u001b[0m\u001b[0m\n\u001b[1;32m    245\u001b[0m             \u001b[0mignore_warnings\u001b[0m\u001b[0;34m=\u001b[0m\u001b[0mignore_warnings\u001b[0m\u001b[0;34m,\u001b[0m\u001b[0;34m\u001b[0m\u001b[0;34m\u001b[0m\u001b[0m\n",
      "\u001b[0;32m~/ParamTools/paramtools/parameters.py\u001b[0m in \u001b[0;36m_adjust\u001b[0;34m(self, params_or_path, ignore_warnings, raise_errors, extend_adj, is_deserialized, clobber)\u001b[0m\n\u001b[1;32m    359\u001b[0m             \u001b[0;32mnot\u001b[0m \u001b[0mignore_warnings\u001b[0m \u001b[0;32mand\u001b[0m \u001b[0mhas_warnings\u001b[0m\u001b[0;34m\u001b[0m\u001b[0;34m\u001b[0m\u001b[0m\n\u001b[1;32m    360\u001b[0m         ):\n\u001b[0;32m--> 361\u001b[0;31m             \u001b[0;32mraise\u001b[0m \u001b[0mself\u001b[0m\u001b[0;34m.\u001b[0m\u001b[0mvalidation_error\u001b[0m\u001b[0;34m\u001b[0m\u001b[0;34m\u001b[0m\u001b[0m\n\u001b[0m\u001b[1;32m    362\u001b[0m \u001b[0;34m\u001b[0m\u001b[0m\n\u001b[1;32m    363\u001b[0m         \u001b[0;31m# Update attrs for params that were adjusted.\u001b[0m\u001b[0;34m\u001b[0m\u001b[0;34m\u001b[0m\u001b[0;34m\u001b[0m\u001b[0m\n",
      "\u001b[0;31mValidationError\u001b[0m: {\n    \"errors\": {\n        \"y\": [\n            \"y 1 < min 2.0 x[year=2000]\"\n        ]\n    }\n}"
     ]
    }
   ],
   "source": [
    "adder = NumberAdder()\n",
    "\n",
    "adder.adjust({\"y\": [{\"value\": 1}]})"
   ]
  },
  {
   "cell_type": "markdown",
   "metadata": {},
   "source": [
    "**Access values as numpy arrays and use ParamTools' powerful extend rules:**"
   ]
  },
  {
   "cell_type": "code",
   "execution_count": 20,
   "metadata": {},
   "outputs": [],
   "source": [
    "adder = NumberAdder(array_first=True, label_to_extend=\"year\")"
   ]
  },
  {
   "cell_type": "code",
   "execution_count": 21,
   "metadata": {},
   "outputs": [
    {
     "data": {
      "text/plain": [
       "array([2., 2., 2., 2., 2., 2., 2., 2., 2., 2., 2., 2., 2., 2., 2., 2., 2.,\n",
       "       2., 2., 2., 2., 2., 2., 2., 2., 2., 2., 2., 2., 2., 2.])"
      ]
     },
     "execution_count": 21,
     "metadata": {},
     "output_type": "execute_result"
    }
   ],
   "source": [
    "adder.x"
   ]
  },
  {
   "cell_type": "code",
   "execution_count": 22,
   "metadata": {},
   "outputs": [
    {
     "data": {
      "text/plain": [
       "Values([\n",
       "  {'year': 2000, 'value': 2.0},\n",
       "  {'year': 2001, 'value': 2.0, '_auto': True},\n",
       "  {'year': 2002, 'value': 2.0, '_auto': True},\n",
       "  {'year': 2003, 'value': 2.0, '_auto': True},\n",
       "  {'year': 2004, 'value': 2.0, '_auto': True},\n",
       "  {'year': 2005, 'value': 2.0, '_auto': True},\n",
       "  {'year': 2006, 'value': 2.0, '_auto': True},\n",
       "  {'year': 2007, 'value': 2.0, '_auto': True},\n",
       "  {'year': 2008, 'value': 2.0, '_auto': True},\n",
       "  {'year': 2009, 'value': 2.0, '_auto': True},\n",
       "  {'year': 2010, 'value': 2.0, '_auto': True},\n",
       "  {'year': 2011, 'value': 2.0, '_auto': True},\n",
       "  {'year': 2012, 'value': 2.0, '_auto': True},\n",
       "  {'year': 2013, 'value': 2.0, '_auto': True},\n",
       "  {'year': 2014, 'value': 2.0, '_auto': True},\n",
       "  {'year': 2015, 'value': 2.0, '_auto': True},\n",
       "  {'year': 2016, 'value': 2.0, '_auto': True},\n",
       "  {'year': 2017, 'value': 2.0, '_auto': True},\n",
       "  {'year': 2018, 'value': 2.0, '_auto': True},\n",
       "  {'year': 2019, 'value': 2.0, '_auto': True},\n",
       "  {'year': 2020, 'value': 2.0, '_auto': True},\n",
       "  {'year': 2021, 'value': 2.0, '_auto': True},\n",
       "  {'year': 2022, 'value': 2.0, '_auto': True},\n",
       "  {'year': 2023, 'value': 2.0, '_auto': True},\n",
       "  {'year': 2024, 'value': 2.0, '_auto': True},\n",
       "  {'year': 2025, 'value': 2.0, '_auto': True},\n",
       "  {'year': 2026, 'value': 2.0, '_auto': True},\n",
       "  {'year': 2027, 'value': 2.0, '_auto': True},\n",
       "  {'year': 2028, 'value': 2.0, '_auto': True},\n",
       "  {'year': 2029, 'value': 2.0, '_auto': True},\n",
       "  {'year': 2030, 'value': 2.0, '_auto': True},\n",
       "])"
      ]
     },
     "execution_count": 22,
     "metadata": {},
     "output_type": "execute_result"
    }
   ],
   "source": [
    "adder.sel[\"x\"]"
   ]
  },
  {
   "cell_type": "markdown",
   "metadata": {},
   "source": [
    "**Updated values are automatically extended using intuitive rules**"
   ]
  },
  {
   "cell_type": "code",
   "execution_count": 23,
   "metadata": {},
   "outputs": [
    {
     "data": {
      "text/plain": [
       "OrderedDict([('x',\n",
       "              [OrderedDict([('year', 2005), ('value', 10.0)]),\n",
       "               OrderedDict([('year', 2010), ('value', 25.0)])])])"
      ]
     },
     "execution_count": 23,
     "metadata": {},
     "output_type": "execute_result"
    }
   ],
   "source": [
    "adder.adjust({\"x\": [{\"year\": 2005, \"value\": 10}, {\"year\": 2010, \"value\": 25}]})"
   ]
  },
  {
   "cell_type": "code",
   "execution_count": 24,
   "metadata": {},
   "outputs": [
    {
     "data": {
      "text/plain": [
       "array([ 2.,  2.,  2.,  2.,  2., 10., 10., 10., 10., 10., 25., 25., 25.,\n",
       "       25., 25., 25., 25., 25., 25., 25., 25., 25., 25., 25., 25., 25.,\n",
       "       25., 25., 25., 25., 25.])"
      ]
     },
     "execution_count": 24,
     "metadata": {},
     "output_type": "execute_result"
    }
   ],
   "source": [
    "adder.x"
   ]
  },
  {
   "cell_type": "markdown",
   "metadata": {},
   "source": [
    "**Use the Query API to select values of `x` that are less than 10 and not `_auto`**"
   ]
  },
  {
   "cell_type": "code",
   "execution_count": 25,
   "metadata": {},
   "outputs": [
    {
     "data": {
      "text/plain": [
       "QueryResult([\n",
       "  {'year': 2000, 'value': 2.0}\n",
       "  {'year': 2001, 'value': 2.0, '_auto': True}\n",
       "  {'year': 2002, 'value': 2.0, '_auto': True}\n",
       "  {'year': 2003, 'value': 2.0, '_auto': True}\n",
       "  {'year': 2004, 'value': 2.0, '_auto': True}\n",
       "  {'year': 2005, 'value': 10.0}\n",
       "  {'year': 2006, 'value': 10.0, '_auto': True}\n",
       "  {'year': 2007, 'value': 10.0, '_auto': True}\n",
       "  {'year': 2008, 'value': 10.0, '_auto': True}\n",
       "  {'year': 2009, 'value': 10.0, '_auto': True}\n",
       "])"
      ]
     },
     "execution_count": 25,
     "metadata": {},
     "output_type": "execute_result"
    }
   ],
   "source": [
    "adder.sel[\"x\"] <= 10"
   ]
  },
  {
   "cell_type": "code",
   "execution_count": 26,
   "metadata": {},
   "outputs": [
    {
     "data": {
      "text/plain": [
       "QueryResult([\n",
       "  {'year': 2000, 'value': 2.0}\n",
       "  {'year': 2005, 'value': 10.0}\n",
       "  {'year': 2010, 'value': 25.0}\n",
       "])"
      ]
     },
     "execution_count": 26,
     "metadata": {},
     "output_type": "execute_result"
    }
   ],
   "source": [
    "adder.sel[\"x\"].missing(\"_auto\")"
   ]
  },
  {
   "cell_type": "code",
   "execution_count": 27,
   "metadata": {},
   "outputs": [
    {
     "data": {
      "text/plain": [
       "QueryResult([\n",
       "  {'year': 2000, 'value': 2.0}\n",
       "  {'year': 2005, 'value': 10.0}\n",
       "])"
      ]
     },
     "execution_count": 27,
     "metadata": {},
     "output_type": "execute_result"
    }
   ],
   "source": [
    "(adder.sel[\"x\"] <= 10) & adder.sel[\"x\"].missing(\"_auto\")"
   ]
  },
  {
   "cell_type": "markdown",
   "metadata": {},
   "source": [
    "**Use the built-in indexing logic to grow parameter values**\n",
    "\n",
    "We will discuss this in more depth in the Tax-Calculator case-study"
   ]
  },
  {
   "cell_type": "code",
   "execution_count": 28,
   "metadata": {},
   "outputs": [],
   "source": [
    "NumberAdder.defaults[\"x\"][\"indexed\"] = True\n",
    "class SimpleIndexed(NumberAdder):\n",
    "    uses_extend_func = True # Provides a method for getting the indexing rate.\n",
    "    array_first = True      # Another way to specify array_first access.\n",
    "    label_to_extend = \"year\"\n",
    "    \n",
    "    index_rates = {\n",
    "        year: 0.02 for year in range(2000, 2030)\n",
    "    }\n",
    "        "
   ]
  },
  {
   "cell_type": "code",
   "execution_count": 29,
   "metadata": {},
   "outputs": [],
   "source": [
    "adder = SimpleIndexed()"
   ]
  },
  {
   "cell_type": "code",
   "execution_count": 30,
   "metadata": {},
   "outputs": [
    {
     "data": {
      "text/plain": [
       "array([2.  , 2.04, 2.08, 2.12, 2.16, 2.2 , 2.24, 2.28, 2.33, 2.38, 2.43,\n",
       "       2.48, 2.53, 2.58, 2.63, 2.68, 2.73, 2.78, 2.84, 2.9 , 2.96, 3.02,\n",
       "       3.08, 3.14, 3.2 , 3.26, 3.33, 3.4 , 3.47, 3.54, 3.61])"
      ]
     },
     "execution_count": 30,
     "metadata": {},
     "output_type": "execute_result"
    }
   ],
   "source": [
    "adder.x"
   ]
  },
  {
   "cell_type": "code",
   "execution_count": 31,
   "metadata": {},
   "outputs": [
    {
     "data": {
      "text/plain": [
       "array([50, 50, 50, 50, 50, 50, 50, 50, 50, 50, 50, 50, 50, 50, 50, 50, 50,\n",
       "       50, 50, 50, 50, 50, 50, 50, 50, 50, 50, 50, 50, 50, 50])"
      ]
     },
     "execution_count": 31,
     "metadata": {},
     "output_type": "execute_result"
    }
   ],
   "source": [
    "adder.y"
   ]
  },
  {
   "cell_type": "code",
   "execution_count": 32,
   "metadata": {},
   "outputs": [
    {
     "data": {
      "text/plain": [
       "array([100. , 102. , 104. , 106. , 108. , 110. , 112. , 114. , 116.5,\n",
       "       119. , 121.5, 124. , 126.5, 129. , 131.5, 134. , 136.5, 139. ,\n",
       "       142. , 145. , 148. , 151. , 154. , 157. , 160. , 163. , 166.5,\n",
       "       170. , 173.5, 177. , 180.5])"
      ]
     },
     "execution_count": 32,
     "metadata": {},
     "output_type": "execute_result"
    }
   ],
   "source": [
    "adder.run()"
   ]
  },
  {
   "cell_type": "code",
   "execution_count": null,
   "metadata": {},
   "outputs": [],
   "source": []
  }
 ],
 "metadata": {
  "kernelspec": {
   "display_name": "Python 3",
   "language": "python",
   "name": "python3"
  },
  "language_info": {
   "codemirror_mode": {
    "name": "ipython",
    "version": 3
   },
   "file_extension": ".py",
   "mimetype": "text/x-python",
   "name": "python",
   "nbconvert_exporter": "python",
   "pygments_lexer": "ipython3",
   "version": "3.8.5"
  }
 },
 "nbformat": 4,
 "nbformat_minor": 4
}
