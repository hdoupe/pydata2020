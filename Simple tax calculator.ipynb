{
 "cells": [
  {
   "cell_type": "markdown",
   "metadata": {},
   "source": [
    "# A simple tax calculator"
   ]
  },
  {
   "cell_type": "markdown",
   "metadata": {},
   "source": [
    "We all pay taxes, right?  In this example, we're going to pretend we live in a country with simple tax rules.\n",
    "\n",
    "\n",
    "```\n",
    "tax_owed = tax_rate * income\n",
    "```\n",
    "\n",
    "_Note: This is a simple example and is not indicative of my beliefs about how tax systems should work!!!_"
   ]
  },
  {
   "cell_type": "code",
   "execution_count": 1,
   "metadata": {},
   "outputs": [],
   "source": [
    "import paramtools\n",
    "\n",
    "class Taxes(paramtools.Parameters):\n",
    "    defaults = {\n",
    "        \"tax_rate\": {\n",
    "            \"title\": \"Tax Rate\",\n",
    "            \"description\": \"Percentage of income that goes to the man.\",\n",
    "            \"type\": \"float\",\n",
    "            \"value\": 0.1,\n",
    "            \"validators\": {\n",
    "                \"range\": {\n",
    "                    \"min\": 0, \"max\": 1\n",
    "                }\n",
    "            }\n",
    "        }\n",
    "    }\n",
    "    \n",
    "    def run(self, income):\n",
    "        return self.tax_rate[0][\"value\"] * income"
   ]
  },
  {
   "cell_type": "code",
   "execution_count": 2,
   "metadata": {},
   "outputs": [],
   "source": [
    "taxes = Taxes()"
   ]
  },
  {
   "cell_type": "markdown",
   "metadata": {},
   "source": [
    "Taxes owed for someone making $50,000/year"
   ]
  },
  {
   "cell_type": "code",
   "execution_count": 3,
   "metadata": {},
   "outputs": [
    {
     "data": {
      "text/plain": [
       "5000.0"
      ]
     },
     "execution_count": 3,
     "metadata": {},
     "output_type": "execute_result"
    }
   ],
   "source": [
    "taxes.run(50000)"
   ]
  },
  {
   "cell_type": "markdown",
   "metadata": {},
   "source": [
    "**Earlier we set up some validation rules--what happens when we break them?**"
   ]
  },
  {
   "cell_type": "code",
   "execution_count": 4,
   "metadata": {},
   "outputs": [
    {
     "ename": "ValidationError",
     "evalue": "{\n    \"errors\": {\n        \"tax_rate\": [\n            \"tax_rate -0.1 < min 0 \"\n        ]\n    }\n}",
     "output_type": "error",
     "traceback": [
      "\u001b[0;31m---------------------------------------------------------------------------\u001b[0m",
      "\u001b[0;31mValidationError\u001b[0m                           Traceback (most recent call last)",
      "\u001b[0;32m<ipython-input-4-49f8536e3914>\u001b[0m in \u001b[0;36m<module>\u001b[0;34m\u001b[0m\n\u001b[0;32m----> 1\u001b[0;31m \u001b[0mtaxes\u001b[0m\u001b[0;34m.\u001b[0m\u001b[0madjust\u001b[0m\u001b[0;34m(\u001b[0m\u001b[0;34m{\u001b[0m\u001b[0;34m\"tax_rate\"\u001b[0m\u001b[0;34m:\u001b[0m \u001b[0;34m-\u001b[0m\u001b[0;36m0.1\u001b[0m\u001b[0;34m}\u001b[0m\u001b[0;34m)\u001b[0m\u001b[0;34m\u001b[0m\u001b[0;34m\u001b[0m\u001b[0m\n\u001b[0m",
      "\u001b[0;32m~/ParamTools/paramtools/parameters.py\u001b[0m in \u001b[0;36madjust\u001b[0;34m(self, params_or_path, ignore_warnings, raise_errors, extend_adj, clobber)\u001b[0m\n\u001b[1;32m    241\u001b[0m             \u001b[0mleast\u001b[0m \u001b[0mone\u001b[0m \u001b[0mexisting\u001b[0m \u001b[0mvalue\u001b[0m \u001b[0mitem\u001b[0m\u001b[0;31m'\u001b[0m\u001b[0ms\u001b[0m \u001b[0mcorresponding\u001b[0m \u001b[0mlabel\u001b[0m \u001b[0mvalues\u001b[0m\u001b[0;34m.\u001b[0m\u001b[0;34m\u001b[0m\u001b[0;34m\u001b[0m\u001b[0m\n\u001b[1;32m    242\u001b[0m         \"\"\"\n\u001b[0;32m--> 243\u001b[0;31m         return self._adjust(\n\u001b[0m\u001b[1;32m    244\u001b[0m             \u001b[0mparams_or_path\u001b[0m\u001b[0;34m,\u001b[0m\u001b[0;34m\u001b[0m\u001b[0;34m\u001b[0m\u001b[0m\n\u001b[1;32m    245\u001b[0m             \u001b[0mignore_warnings\u001b[0m\u001b[0;34m=\u001b[0m\u001b[0mignore_warnings\u001b[0m\u001b[0;34m,\u001b[0m\u001b[0;34m\u001b[0m\u001b[0;34m\u001b[0m\u001b[0m\n",
      "\u001b[0;32m~/ParamTools/paramtools/parameters.py\u001b[0m in \u001b[0;36m_adjust\u001b[0;34m(self, params_or_path, ignore_warnings, raise_errors, extend_adj, is_deserialized, clobber)\u001b[0m\n\u001b[1;32m    359\u001b[0m             \u001b[0;32mnot\u001b[0m \u001b[0mignore_warnings\u001b[0m \u001b[0;32mand\u001b[0m \u001b[0mhas_warnings\u001b[0m\u001b[0;34m\u001b[0m\u001b[0;34m\u001b[0m\u001b[0m\n\u001b[1;32m    360\u001b[0m         ):\n\u001b[0;32m--> 361\u001b[0;31m             \u001b[0;32mraise\u001b[0m \u001b[0mself\u001b[0m\u001b[0;34m.\u001b[0m\u001b[0mvalidation_error\u001b[0m\u001b[0;34m\u001b[0m\u001b[0;34m\u001b[0m\u001b[0m\n\u001b[0m\u001b[1;32m    362\u001b[0m \u001b[0;34m\u001b[0m\u001b[0m\n\u001b[1;32m    363\u001b[0m         \u001b[0;31m# Update attrs for params that were adjusted.\u001b[0m\u001b[0;34m\u001b[0m\u001b[0;34m\u001b[0m\u001b[0;34m\u001b[0m\u001b[0m\n",
      "\u001b[0;31mValidationError\u001b[0m: {\n    \"errors\": {\n        \"tax_rate\": [\n            \"tax_rate -0.1 < min 0 \"\n        ]\n    }\n}"
     ]
    }
   ],
   "source": [
    "taxes.adjust({\"tax_rate\": -0.1})"
   ]
  },
  {
   "cell_type": "markdown",
   "metadata": {},
   "source": [
    "## Tax rates change over time. Suppose the government wants to raise taxes in 2021 to 15% of income.\n",
    "\n",
    "Let's add a year label to the Taxes class so we can update the tax rules in 2021."
   ]
  },
  {
   "cell_type": "code",
   "execution_count": 5,
   "metadata": {},
   "outputs": [],
   "source": [
    "class Taxes(paramtools.Parameters):\n",
    "    defaults = {\n",
    "        \"schema\": {\n",
    "            \"labels\": {\n",
    "                \"year\": {\n",
    "                    \"type\": \"int\", \n",
    "                    \"validators\": {\"range\": {\"min\": 2020, \"max\": 2030}}\n",
    "                }\n",
    "            }\n",
    "        },\n",
    "        \"tax_rate\": {\n",
    "            \"title\": \"Tax Rate\",\n",
    "            \"description\": \"Percent of income that goes to the man.\",\n",
    "            \"type\": \"float\",\n",
    "            \"value\": [\n",
    "                {\"year\": 2020, \"value\": 0.1},\n",
    "            ],\n",
    "            \"validators\": {\n",
    "                \"range\": {\n",
    "                    \"min\": 0, \"max\": 1\n",
    "                }\n",
    "            }\n",
    "        }\n",
    "    }\n",
    "    \n",
    "    def run(self, income, year):\n",
    "        tax_rate = self.sel[\"tax_rate\"][\"year\"] == year\n",
    "        return tax_rate[0][\"value\"] * income"
   ]
  },
  {
   "cell_type": "code",
   "execution_count": 6,
   "metadata": {},
   "outputs": [],
   "source": [
    "taxes = Taxes()"
   ]
  },
  {
   "cell_type": "code",
   "execution_count": 7,
   "metadata": {},
   "outputs": [
    {
     "data": {
      "text/plain": [
       "5000.0"
      ]
     },
     "execution_count": 7,
     "metadata": {},
     "output_type": "execute_result"
    }
   ],
   "source": [
    "taxes.run(50000, year=2020)"
   ]
  },
  {
   "cell_type": "markdown",
   "metadata": {},
   "source": [
    "Update the tax rate in 2021 to be 0.15:"
   ]
  },
  {
   "cell_type": "code",
   "execution_count": 8,
   "metadata": {},
   "outputs": [
    {
     "data": {
      "text/plain": [
       "Values([\n",
       "  {'year': 2020, 'value': 0.1},\n",
       "  {'year': 2021, 'value': 0.15},\n",
       "])"
      ]
     },
     "execution_count": 8,
     "metadata": {},
     "output_type": "execute_result"
    }
   ],
   "source": [
    "taxes.adjust({\n",
    "    \"tax_rate\": [{\"year\": 2021, \"value\": 0.15}]\n",
    "})\n",
    "\n",
    "taxes.sel[\"tax_rate\"]"
   ]
  },
  {
   "cell_type": "code",
   "execution_count": 9,
   "metadata": {},
   "outputs": [
    {
     "data": {
      "text/plain": [
       "7500.0"
      ]
     },
     "execution_count": 9,
     "metadata": {},
     "output_type": "execute_result"
    }
   ],
   "source": [
    "taxes.run(50000, year=2021)"
   ]
  },
  {
   "cell_type": "markdown",
   "metadata": {},
   "source": [
    "## Calculate taxes for multiple years\n",
    "\n",
    "The list of dicts starts to feel a bit cumbersome:\n",
    "\n",
    "```python\n",
    "    def run_all(self, income):\n",
    "        return {value[\"year\"]: self.run(income, year) for year in range(2020, 2030 + 1)}\n",
    " ```\n",
    " \n",
    " Enter: NumPy arrays."
   ]
  },
  {
   "cell_type": "code",
   "execution_count": 10,
   "metadata": {},
   "outputs": [],
   "source": [
    "class MultiYearTaxes(paramtools.Parameters):\n",
    "    defaults = {\n",
    "        \"schema\": {\n",
    "            \"labels\": {\n",
    "                \"year\": {\n",
    "                    \"type\": \"int\", \n",
    "                    \"validators\": {\"range\": {\"min\": 2020, \"max\": 2030}}\n",
    "                }\n",
    "            },\n",
    "            \"operators\": {\n",
    "                \"array_first\": True\n",
    "            }\n",
    "        },\n",
    "        \"tax_rate\": {\n",
    "            \"title\": \"Tax Rate\",\n",
    "            \"description\": \"Percent of income that goes to the man.\",\n",
    "            \"type\": \"float\",\n",
    "            \"value\": [\n",
    "                {\"year\": 2020, \"value\": 0.1},\n",
    "                {\"year\": 2021, \"value\": 0.1},\n",
    "                {\"year\": 2022, \"value\": 0.1},\n",
    "                {\"year\": 2023, \"value\": 0.1},\n",
    "                {\"year\": 2024, \"value\": 0.1},\n",
    "                {\"year\": 2025, \"value\": 0.1},\n",
    "                {\"year\": 2026, \"value\": 0.1},\n",
    "                {\"year\": 2027, \"value\": 0.1},\n",
    "                {\"year\": 2028, \"value\": 0.1},\n",
    "                {\"year\": 2029, \"value\": 0.1},\n",
    "                {\"year\": 2030, \"value\": 0.1},\n",
    "            ],\n",
    "            \"validators\": {\n",
    "                \"range\": {\n",
    "                    \"min\": 0, \"max\": 1\n",
    "                }\n",
    "            }\n",
    "        }\n",
    "    }\n",
    "\n",
    "\n",
    "    def run_all(self, income):\n",
    "        return self.tax_rate * income\n"
   ]
  },
  {
   "cell_type": "code",
   "execution_count": 11,
   "metadata": {},
   "outputs": [
    {
     "data": {
      "text/plain": [
       "array([0.1, 0.1, 0.1, 0.1, 0.1, 0.1, 0.1, 0.1, 0.1, 0.1, 0.1])"
      ]
     },
     "execution_count": 11,
     "metadata": {},
     "output_type": "execute_result"
    }
   ],
   "source": [
    "taxes = MultiYearTaxes()\n",
    "\n",
    "taxes.tax_rate"
   ]
  },
  {
   "cell_type": "code",
   "execution_count": 12,
   "metadata": {},
   "outputs": [
    {
     "data": {
      "text/plain": [
       "array([5000., 5000., 5000., 5000., 5000., 5000., 5000., 5000., 5000.,\n",
       "       5000., 5000.])"
      ]
     },
     "execution_count": 12,
     "metadata": {},
     "output_type": "execute_result"
    }
   ],
   "source": [
    "taxes.run_all(50000)"
   ]
  },
  {
   "cell_type": "markdown",
   "metadata": {},
   "source": [
    "**But, what happens if we want to increase taxes in 2021 and going forward?**"
   ]
  },
  {
   "cell_type": "code",
   "execution_count": 13,
   "metadata": {},
   "outputs": [
    {
     "data": {
      "text/plain": [
       "Values([\n",
       "  {'year': 2020, 'value': 0.1},\n",
       "  {'year': 2021, 'value': 0.15},\n",
       "  {'year': 2022, 'value': 0.1},\n",
       "  {'year': 2023, 'value': 0.1},\n",
       "  {'year': 2024, 'value': 0.1},\n",
       "  {'year': 2025, 'value': 0.1},\n",
       "  {'year': 2026, 'value': 0.1},\n",
       "  {'year': 2027, 'value': 0.1},\n",
       "  {'year': 2028, 'value': 0.1},\n",
       "  {'year': 2029, 'value': 0.1},\n",
       "  {'year': 2030, 'value': 0.1},\n",
       "])"
      ]
     },
     "execution_count": 13,
     "metadata": {},
     "output_type": "execute_result"
    }
   ],
   "source": [
    "taxes.adjust({\n",
    "    \"tax_rate\": [{\"year\": 2021, \"value\": 0.15}]\n",
    "})\n",
    "\n",
    "taxes.sel[\"tax_rate\"]"
   ]
  },
  {
   "cell_type": "code",
   "execution_count": 14,
   "metadata": {},
   "outputs": [
    {
     "data": {
      "text/plain": [
       "Values([\n",
       "  {'year': 2020, 'value': 0.1},\n",
       "  {'year': 2021, 'value': 0.15},\n",
       "  {'year': 2022, 'value': 0.15},\n",
       "  {'year': 2023, 'value': 0.15},\n",
       "  {'year': 2024, 'value': 0.15},\n",
       "  {'year': 2025, 'value': 0.15},\n",
       "  {'year': 2026, 'value': 0.15},\n",
       "  {'year': 2027, 'value': 0.15},\n",
       "  {'year': 2028, 'value': 0.15},\n",
       "  {'year': 2029, 'value': 0.15},\n",
       "  {'year': 2030, 'value': 0.15},\n",
       "])"
      ]
     },
     "execution_count": 14,
     "metadata": {},
     "output_type": "execute_result"
    }
   ],
   "source": [
    "taxes.adjust({\n",
    "    \"tax_rate\": [\n",
    "        {\"year\": year, \"value\": 0.15} for year in range(2021, 2030 + 1)\n",
    "    ]\n",
    "})\n",
    "\n",
    "taxes.sel[\"tax_rate\"]"
   ]
  },
  {
   "cell_type": "markdown",
   "metadata": {},
   "source": [
    "## Use `label_to_extend` to extend parameter values for multiple years"
   ]
  },
  {
   "cell_type": "code",
   "execution_count": 16,
   "metadata": {},
   "outputs": [],
   "source": [
    "class MultiYearTaxes(paramtools.Parameters):\n",
    "    defaults = {\n",
    "        \"schema\": {\n",
    "            \"labels\": {\n",
    "                \"year\": {\n",
    "                    \"type\": \"int\", \n",
    "                    \"validators\": {\"range\": {\"min\": 2020, \"max\": 2030}}\n",
    "                }\n",
    "            },\n",
    "            \"operators\": {\n",
    "                # Extend tax rate using the year label.\n",
    "                \"label_to_extend\": \"year\",\n",
    "                \"array_first\": True\n",
    "            }\n",
    "        },\n",
    "        \"tax_rate\": {\n",
    "            \"title\": \"Tax Rate\",\n",
    "            \"description\": \"Percent of income that goes to the man.\",\n",
    "            \"type\": \"float\",\n",
    "            \"value\": [\n",
    "                {\"year\": 2020, \"value\": 0.1},\n",
    "            ],\n",
    "            \"validators\": {\n",
    "                \"range\": {\n",
    "                    \"min\": 0, \"max\": 1\n",
    "                }\n",
    "            }\n",
    "        }\n",
    "    }\n",
    "    \n",
    "    def run_all(self, income):\n",
    "        return self.tax_rate * income\n"
   ]
  },
  {
   "cell_type": "code",
   "execution_count": 17,
   "metadata": {},
   "outputs": [
    {
     "data": {
      "text/plain": [
       "Values([\n",
       "  {'year': 2020, 'value': 0.1},\n",
       "  {'year': 2021, 'value': 0.15},\n",
       "  {'year': 2022, 'value': 0.15, '_auto': True},\n",
       "  {'year': 2023, 'value': 0.15, '_auto': True},\n",
       "  {'year': 2024, 'value': 0.15, '_auto': True},\n",
       "  {'year': 2025, 'value': 0.15, '_auto': True},\n",
       "  {'year': 2026, 'value': 0.15, '_auto': True},\n",
       "  {'year': 2027, 'value': 0.15, '_auto': True},\n",
       "  {'year': 2028, 'value': 0.15, '_auto': True},\n",
       "  {'year': 2029, 'value': 0.15, '_auto': True},\n",
       "  {'year': 2030, 'value': 0.15, '_auto': True},\n",
       "])"
      ]
     },
     "execution_count": 17,
     "metadata": {},
     "output_type": "execute_result"
    }
   ],
   "source": [
    "taxes = MultiYearTaxes()\n",
    "taxes.adjust({\n",
    "    \"tax_rate\": [{\"year\": 2021, \"value\": 0.15}]\n",
    "})\n",
    "\n",
    "taxes.sel[\"tax_rate\"]"
   ]
  },
  {
   "cell_type": "code",
   "execution_count": 18,
   "metadata": {},
   "outputs": [
    {
     "data": {
      "text/plain": [
       "array([5000., 7500., 7500., 7500., 7500., 7500., 7500., 7500., 7500.,\n",
       "       7500., 7500.])"
      ]
     },
     "execution_count": 18,
     "metadata": {},
     "output_type": "execute_result"
    }
   ],
   "source": [
    "taxes.run_all(50000)"
   ]
  },
  {
   "cell_type": "markdown",
   "metadata": {},
   "source": [
    "# Now this is starting to look like a real tax calculator.\n",
    "\n",
    "One last concept is the idea of indexing values to an inflation rate.\n",
    "\n",
    "To do this, we are going to add a parameter `deduction` that is indexed to inflation. The new tax equation is:\n",
    "\n",
    "```\n",
    "tax_owed = tax_rate * (income - deduction)\n",
    "```"
   ]
  },
  {
   "cell_type": "code",
   "execution_count": 19,
   "metadata": {},
   "outputs": [],
   "source": [
    "import numpy as np\n",
    "\n",
    "class IndexedTaxes(paramtools.Parameters):\n",
    "    defaults = {\n",
    "        \"schema\": {\n",
    "            \"labels\": {\n",
    "                \"year\": {\n",
    "                    \"type\": \"int\", \n",
    "                    \"validators\": {\"range\": {\"min\": 2020, \"max\": 2030}}\n",
    "                }\n",
    "            },\n",
    "            \"operators\": {\n",
    "                \"label_to_extend\": \"year\",\n",
    "                \"array_first\": True,\n",
    "                \"uses_extend_func\": True,\n",
    "            }\n",
    "        },\n",
    "        \"tax_rate\": {\n",
    "            \"title\": \"Tax Rate\",\n",
    "            \"description\": \"Percent of income that goes to the man.\",\n",
    "            \"type\": \"float\",\n",
    "            \"value\": [\n",
    "                {\"year\": 2020, \"value\": 0.1},\n",
    "            ],\n",
    "            \"validators\": {\n",
    "                \"range\": {\n",
    "                    \"min\": 0, \"max\": 1\n",
    "                }\n",
    "            }\n",
    "        },\n",
    "        \"deduction\": {\n",
    "            \"title\": \"Deduction\",\n",
    "            \"description\": \"Amount you deduct from your income before taxes.\",\n",
    "            \"type\": \"float\",\n",
    "            \"indexed\": True,\n",
    "            \"value\": [\n",
    "                {\"year\": 2020, \"value\": 10000}\n",
    "            ],\n",
    "            \"validators\": {\n",
    "                \"range\": {\"min\": 0}\n",
    "            }\n",
    "        }\n",
    "    }\n",
    "    index_rates = {\n",
    "        2020: 0.0073,\n",
    "        2021: 0.0095,\n",
    "        2022: 0.0158,\n",
    "        2023: 0.0193,\n",
    "        2024: 0.02,\n",
    "        2025: 0.0202,\n",
    "        2026: 0.0197,\n",
    "        2027: 0.0199,\n",
    "        2028: 0.0197,\n",
    "        2029: 0.0199,\n",
    "        2030: 0.0197\n",
    "    }\n",
    "    \n",
    "    def calculate_adjusted_income(self, income):\n",
    "        \"\"\"Adjust income for inflation.\"\"\"\n",
    "        adjusted_income = [income]\n",
    "        for i, year in enumerate(range(2021, 2031)):\n",
    "            adjusted_income.append(\n",
    "                adjusted_income[year - 2021] * (1 + self.index_rates[year])\n",
    "            )\n",
    "        return np.array(adjusted_income)\n",
    "    \n",
    "    \n",
    "    def run_all(self, income):\n",
    "        adjusted_income = self.calculate_adjusted_income(income)\n",
    "        return self.tax_rate * (adjusted_income - self.deduction)"
   ]
  },
  {
   "cell_type": "code",
   "execution_count": 20,
   "metadata": {},
   "outputs": [],
   "source": [
    "taxes = IndexedTaxes()"
   ]
  },
  {
   "cell_type": "code",
   "execution_count": 21,
   "metadata": {},
   "outputs": [
    {
     "data": {
      "text/plain": [
       "array([10000.  , 10073.  , 10168.69, 10329.36, 10528.72, 10739.29,\n",
       "       10956.22, 11172.06, 11394.38, 11618.85, 11850.07])"
      ]
     },
     "execution_count": 21,
     "metadata": {},
     "output_type": "execute_result"
    }
   ],
   "source": [
    "taxes.deduction"
   ]
  },
  {
   "cell_type": "code",
   "execution_count": 22,
   "metadata": {},
   "outputs": [
    {
     "data": {
      "text/plain": [
       "array([4000.        , 4040.2       , 4110.3815    , 4193.27043465,\n",
       "       4277.85856334, 4364.48232072, 4449.92602374, 4538.69842941,\n",
       "       4627.88774667, 4720.21052903, 4812.96581095])"
      ]
     },
     "execution_count": 22,
     "metadata": {},
     "output_type": "execute_result"
    }
   ],
   "source": [
    "taxes.run_all(50000)"
   ]
  },
  {
   "cell_type": "code",
   "execution_count": null,
   "metadata": {},
   "outputs": [],
   "source": []
  }
 ],
 "metadata": {
  "kernelspec": {
   "display_name": "Python 3",
   "language": "python",
   "name": "python3"
  },
  "language_info": {
   "codemirror_mode": {
    "name": "ipython",
    "version": 3
   },
   "file_extension": ".py",
   "mimetype": "text/x-python",
   "name": "python",
   "nbconvert_exporter": "python",
   "pygments_lexer": "ipython3",
   "version": "3.8.5"
  }
 },
 "nbformat": 4,
 "nbformat_minor": 4
}
